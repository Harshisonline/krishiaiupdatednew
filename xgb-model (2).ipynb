{
 "cells": [
  {
   "cell_type": "code",
   "execution_count": 1,
   "id": "3141da39",
   "metadata": {
    "_cell_guid": "b1076dfc-b9ad-4769-8c92-a6c4dae69d19",
    "_uuid": "8f2839f25d086af736a60e9eeb907d3b93b6e0e5",
    "execution": {
     "iopub.execute_input": "2025-04-11T14:41:37.338556Z",
     "iopub.status.busy": "2025-04-11T14:41:37.338134Z",
     "iopub.status.idle": "2025-04-11T14:41:38.343928Z",
     "shell.execute_reply": "2025-04-11T14:41:38.342613Z"
    },
    "papermill": {
     "duration": 1.014151,
     "end_time": "2025-04-11T14:41:38.345931",
     "exception": false,
     "start_time": "2025-04-11T14:41:37.331780",
     "status": "completed"
    },
    "tags": []
   },
   "outputs": [
    {
     "name": "stdout",
     "output_type": "stream",
     "text": [
      "/kaggle/input/crop-production-in-india/crop_production.csv\n"
     ]
    }
   ],
   "source": [
    "# This Python 3 environment comes with many helpful analytics libraries installed\n",
    "# It is defined by the kaggle/python Docker image: https://github.com/kaggle/docker-python\n",
    "# For example, here's several helpful packages to load\n",
    "\n",
    "import numpy as np # linear algebra\n",
    "import pandas as pd # data processing, CSV file I/O (e.g. pd.read_csv)\n",
    "\n",
    "# Input data files are available in the read-only \"../input/\" directory\n",
    "# For example, running this (by clicking run or pressing Shift+Enter) will list all files under the input directory\n",
    "\n",
    "import os\n",
    "for dirname, _, filenames in os.walk('/kaggle/input'):\n",
    "    for filename in filenames:\n",
    "        print(os.path.join(dirname, filename))\n",
    "\n",
    "# You can write up to 20GB to the current directory (/kaggle/working/) that gets preserved as output when you create a version using \"Save & Run All\" \n",
    "# You can also write temporary files to /kaggle/temp/, but they won't be saved outside of the current session"
   ]
  },
  {
   "cell_type": "code",
   "execution_count": 2,
   "id": "f6a07053",
   "metadata": {
    "execution": {
     "iopub.execute_input": "2025-04-11T14:41:38.357527Z",
     "iopub.status.busy": "2025-04-11T14:41:38.357002Z",
     "iopub.status.idle": "2025-04-11T14:41:40.461197Z",
     "shell.execute_reply": "2025-04-11T14:41:40.460001Z"
    },
    "papermill": {
     "duration": 2.112183,
     "end_time": "2025-04-11T14:41:40.463280",
     "exception": false,
     "start_time": "2025-04-11T14:41:38.351097",
     "status": "completed"
    },
    "tags": []
   },
   "outputs": [],
   "source": [
    "\n",
    "import pandas as pd\n",
    "import numpy as np\n",
    "from sklearn.model_selection import train_test_split\n",
    "from sklearn.ensemble import RandomForestRegressor\n",
    "from sklearn.preprocessing import LabelEncoder\n",
    "from sklearn.metrics import mean_squared_error\n",
    "import joblib\n"
   ]
  },
  {
   "cell_type": "code",
   "execution_count": 3,
   "id": "e98db031",
   "metadata": {
    "execution": {
     "iopub.execute_input": "2025-04-11T14:41:40.474365Z",
     "iopub.status.busy": "2025-04-11T14:41:40.473829Z",
     "iopub.status.idle": "2025-04-11T14:41:40.980754Z",
     "shell.execute_reply": "2025-04-11T14:41:40.979691Z"
    },
    "papermill": {
     "duration": 0.514344,
     "end_time": "2025-04-11T14:41:40.982478",
     "exception": false,
     "start_time": "2025-04-11T14:41:40.468134",
     "status": "completed"
    },
    "tags": []
   },
   "outputs": [
    {
     "name": "stdout",
     "output_type": "stream",
     "text": [
      "Shape: (246091, 7)\n"
     ]
    },
    {
     "data": {
      "text/html": [
       "<div>\n",
       "<style scoped>\n",
       "    .dataframe tbody tr th:only-of-type {\n",
       "        vertical-align: middle;\n",
       "    }\n",
       "\n",
       "    .dataframe tbody tr th {\n",
       "        vertical-align: top;\n",
       "    }\n",
       "\n",
       "    .dataframe thead th {\n",
       "        text-align: right;\n",
       "    }\n",
       "</style>\n",
       "<table border=\"1\" class=\"dataframe\">\n",
       "  <thead>\n",
       "    <tr style=\"text-align: right;\">\n",
       "      <th></th>\n",
       "      <th>State_Name</th>\n",
       "      <th>District_Name</th>\n",
       "      <th>Crop_Year</th>\n",
       "      <th>Season</th>\n",
       "      <th>Crop</th>\n",
       "      <th>Area</th>\n",
       "      <th>Production</th>\n",
       "    </tr>\n",
       "  </thead>\n",
       "  <tbody>\n",
       "    <tr>\n",
       "      <th>0</th>\n",
       "      <td>Andaman and Nicobar Islands</td>\n",
       "      <td>NICOBARS</td>\n",
       "      <td>2000</td>\n",
       "      <td>Kharif</td>\n",
       "      <td>Arecanut</td>\n",
       "      <td>1254.0</td>\n",
       "      <td>2000.0</td>\n",
       "    </tr>\n",
       "    <tr>\n",
       "      <th>1</th>\n",
       "      <td>Andaman and Nicobar Islands</td>\n",
       "      <td>NICOBARS</td>\n",
       "      <td>2000</td>\n",
       "      <td>Kharif</td>\n",
       "      <td>Other Kharif pulses</td>\n",
       "      <td>2.0</td>\n",
       "      <td>1.0</td>\n",
       "    </tr>\n",
       "    <tr>\n",
       "      <th>2</th>\n",
       "      <td>Andaman and Nicobar Islands</td>\n",
       "      <td>NICOBARS</td>\n",
       "      <td>2000</td>\n",
       "      <td>Kharif</td>\n",
       "      <td>Rice</td>\n",
       "      <td>102.0</td>\n",
       "      <td>321.0</td>\n",
       "    </tr>\n",
       "    <tr>\n",
       "      <th>3</th>\n",
       "      <td>Andaman and Nicobar Islands</td>\n",
       "      <td>NICOBARS</td>\n",
       "      <td>2000</td>\n",
       "      <td>Whole Year</td>\n",
       "      <td>Banana</td>\n",
       "      <td>176.0</td>\n",
       "      <td>641.0</td>\n",
       "    </tr>\n",
       "    <tr>\n",
       "      <th>4</th>\n",
       "      <td>Andaman and Nicobar Islands</td>\n",
       "      <td>NICOBARS</td>\n",
       "      <td>2000</td>\n",
       "      <td>Whole Year</td>\n",
       "      <td>Cashewnut</td>\n",
       "      <td>720.0</td>\n",
       "      <td>165.0</td>\n",
       "    </tr>\n",
       "  </tbody>\n",
       "</table>\n",
       "</div>"
      ],
      "text/plain": [
       "                    State_Name District_Name  Crop_Year       Season  \\\n",
       "0  Andaman and Nicobar Islands      NICOBARS       2000  Kharif        \n",
       "1  Andaman and Nicobar Islands      NICOBARS       2000  Kharif        \n",
       "2  Andaman and Nicobar Islands      NICOBARS       2000  Kharif        \n",
       "3  Andaman and Nicobar Islands      NICOBARS       2000  Whole Year    \n",
       "4  Andaman and Nicobar Islands      NICOBARS       2000  Whole Year    \n",
       "\n",
       "                  Crop    Area  Production  \n",
       "0             Arecanut  1254.0      2000.0  \n",
       "1  Other Kharif pulses     2.0         1.0  \n",
       "2                 Rice   102.0       321.0  \n",
       "3               Banana   176.0       641.0  \n",
       "4            Cashewnut   720.0       165.0  "
      ]
     },
     "execution_count": 3,
     "metadata": {},
     "output_type": "execute_result"
    }
   ],
   "source": [
    "\n",
    "df = pd.read_csv(\"../input/crop-production-in-india/crop_production.csv\")\n",
    "print(\"Shape:\", df.shape)\n",
    "df.head()\n"
   ]
  },
  {
   "cell_type": "code",
   "execution_count": 4,
   "id": "99cfda36",
   "metadata": {
    "execution": {
     "iopub.execute_input": "2025-04-11T14:41:40.993525Z",
     "iopub.status.busy": "2025-04-11T14:41:40.993145Z",
     "iopub.status.idle": "2025-04-11T14:41:41.198573Z",
     "shell.execute_reply": "2025-04-11T14:41:41.197410Z"
    },
    "papermill": {
     "duration": 0.212835,
     "end_time": "2025-04-11T14:41:41.200395",
     "exception": false,
     "start_time": "2025-04-11T14:41:40.987560",
     "status": "completed"
    },
    "tags": []
   },
   "outputs": [
    {
     "data": {
      "text/html": [
       "<div>\n",
       "<style scoped>\n",
       "    .dataframe tbody tr th:only-of-type {\n",
       "        vertical-align: middle;\n",
       "    }\n",
       "\n",
       "    .dataframe tbody tr th {\n",
       "        vertical-align: top;\n",
       "    }\n",
       "\n",
       "    .dataframe thead th {\n",
       "        text-align: right;\n",
       "    }\n",
       "</style>\n",
       "<table border=\"1\" class=\"dataframe\">\n",
       "  <thead>\n",
       "    <tr style=\"text-align: right;\">\n",
       "      <th></th>\n",
       "      <th>Crop_Year</th>\n",
       "      <th>Area</th>\n",
       "      <th>Production</th>\n",
       "      <th>Yield</th>\n",
       "    </tr>\n",
       "  </thead>\n",
       "  <tbody>\n",
       "    <tr>\n",
       "      <th>count</th>\n",
       "      <td>236211.000000</td>\n",
       "      <td>2.362110e+05</td>\n",
       "      <td>2.362110e+05</td>\n",
       "      <td>236211.000000</td>\n",
       "    </tr>\n",
       "    <tr>\n",
       "      <th>mean</th>\n",
       "      <td>2005.676137</td>\n",
       "      <td>1.230315e+04</td>\n",
       "      <td>3.915992e+04</td>\n",
       "      <td>3.944465</td>\n",
       "    </tr>\n",
       "    <tr>\n",
       "      <th>std</th>\n",
       "      <td>4.975792</td>\n",
       "      <td>5.135030e+04</td>\n",
       "      <td>3.048416e+05</td>\n",
       "      <td>9.623429</td>\n",
       "    </tr>\n",
       "    <tr>\n",
       "      <th>min</th>\n",
       "      <td>1997.000000</td>\n",
       "      <td>1.000000e-01</td>\n",
       "      <td>2.000000e-02</td>\n",
       "      <td>0.010101</td>\n",
       "    </tr>\n",
       "    <tr>\n",
       "      <th>25%</th>\n",
       "      <td>2002.000000</td>\n",
       "      <td>9.000000e+01</td>\n",
       "      <td>9.700000e+01</td>\n",
       "      <td>0.529201</td>\n",
       "    </tr>\n",
       "    <tr>\n",
       "      <th>50%</th>\n",
       "      <td>2006.000000</td>\n",
       "      <td>6.250000e+02</td>\n",
       "      <td>7.520000e+02</td>\n",
       "      <td>1.000000</td>\n",
       "    </tr>\n",
       "    <tr>\n",
       "      <th>75%</th>\n",
       "      <td>2010.000000</td>\n",
       "      <td>4.610000e+03</td>\n",
       "      <td>6.868500e+03</td>\n",
       "      <td>2.315691</td>\n",
       "    </tr>\n",
       "    <tr>\n",
       "      <th>max</th>\n",
       "      <td>2015.000000</td>\n",
       "      <td>8.580100e+06</td>\n",
       "      <td>1.775796e+07</td>\n",
       "      <td>83.594595</td>\n",
       "    </tr>\n",
       "  </tbody>\n",
       "</table>\n",
       "</div>"
      ],
      "text/plain": [
       "           Crop_Year          Area    Production          Yield\n",
       "count  236211.000000  2.362110e+05  2.362110e+05  236211.000000\n",
       "mean     2005.676137  1.230315e+04  3.915992e+04       3.944465\n",
       "std         4.975792  5.135030e+04  3.048416e+05       9.623429\n",
       "min      1997.000000  1.000000e-01  2.000000e-02       0.010101\n",
       "25%      2002.000000  9.000000e+01  9.700000e+01       0.529201\n",
       "50%      2006.000000  6.250000e+02  7.520000e+02       1.000000\n",
       "75%      2010.000000  4.610000e+03  6.868500e+03       2.315691\n",
       "max      2015.000000  8.580100e+06  1.775796e+07      83.594595"
      ]
     },
     "execution_count": 4,
     "metadata": {},
     "output_type": "execute_result"
    }
   ],
   "source": [
    "\n",
    "df.dropna(inplace=True)\n",
    "df = df[(df['Area'] > 0) & (df['Production'] > 0)]\n",
    "df['Yield'] = df['Production'] / df['Area']\n",
    "df = df[df['Yield'] > 0.01]\n",
    "threshold = df['Yield'].quantile(0.99)\n",
    "df = df[df['Yield'] < threshold]\n",
    "df.reset_index(drop=True, inplace=True)\n",
    "\n",
    "df.describe()\n"
   ]
  },
  {
   "cell_type": "code",
   "execution_count": 5,
   "id": "9c4f8389",
   "metadata": {
    "execution": {
     "iopub.execute_input": "2025-04-11T14:41:41.212819Z",
     "iopub.status.busy": "2025-04-11T14:41:41.212471Z",
     "iopub.status.idle": "2025-04-11T14:41:41.348486Z",
     "shell.execute_reply": "2025-04-11T14:41:41.347528Z"
    },
    "papermill": {
     "duration": 0.144453,
     "end_time": "2025-04-11T14:41:41.350247",
     "exception": false,
     "start_time": "2025-04-11T14:41:41.205794",
     "status": "completed"
    },
    "tags": []
   },
   "outputs": [],
   "source": [
    "from sklearn.preprocessing import LabelEncoder\n",
    "\n",
    "le_crop = LabelEncoder()\n",
    "le_state = LabelEncoder()\n",
    "le_season = LabelEncoder()\n",
    "\n",
    "df['Crop'] = le_crop.fit_transform(df['Crop'])\n",
    "df['State_Name'] = le_state.fit_transform(df['State_Name'])\n",
    "df['Season'] = le_season.fit_transform(df['Season'])\n",
    "\n",
    "\n"
   ]
  },
  {
   "cell_type": "code",
   "execution_count": 6,
   "id": "97241a16",
   "metadata": {
    "execution": {
     "iopub.execute_input": "2025-04-11T14:41:41.361717Z",
     "iopub.status.busy": "2025-04-11T14:41:41.361320Z",
     "iopub.status.idle": "2025-04-11T14:41:41.369079Z",
     "shell.execute_reply": "2025-04-11T14:41:41.368046Z"
    },
    "papermill": {
     "duration": 0.015346,
     "end_time": "2025-04-11T14:41:41.370796",
     "exception": false,
     "start_time": "2025-04-11T14:41:41.355450",
     "status": "completed"
    },
    "tags": []
   },
   "outputs": [],
   "source": [
    "X = df[['Crop', 'State_Name', 'Season', 'Area']]\n",
    "y = df['Yield']\n"
   ]
  },
  {
   "cell_type": "code",
   "execution_count": 7,
   "id": "6a0f9dab",
   "metadata": {
    "execution": {
     "iopub.execute_input": "2025-04-11T14:41:41.382236Z",
     "iopub.status.busy": "2025-04-11T14:41:41.381887Z",
     "iopub.status.idle": "2025-04-11T14:41:41.411145Z",
     "shell.execute_reply": "2025-04-11T14:41:41.410105Z"
    },
    "papermill": {
     "duration": 0.036846,
     "end_time": "2025-04-11T14:41:41.412912",
     "exception": false,
     "start_time": "2025-04-11T14:41:41.376066",
     "status": "completed"
    },
    "tags": []
   },
   "outputs": [],
   "source": [
    "from sklearn.model_selection import train_test_split\n",
    "\n",
    "X_train, X_test, y_train, y_test = train_test_split(X, y, test_size=0.2, random_state=42)\n"
   ]
  },
  {
   "cell_type": "code",
   "execution_count": 8,
   "id": "d310918f",
   "metadata": {
    "execution": {
     "iopub.execute_input": "2025-04-11T14:41:41.424889Z",
     "iopub.status.busy": "2025-04-11T14:41:41.424393Z",
     "iopub.status.idle": "2025-04-11T14:41:41.555249Z",
     "shell.execute_reply": "2025-04-11T14:41:41.554110Z"
    },
    "papermill": {
     "duration": 0.138973,
     "end_time": "2025-04-11T14:41:41.557123",
     "exception": false,
     "start_time": "2025-04-11T14:41:41.418150",
     "status": "completed"
    },
    "tags": []
   },
   "outputs": [
    {
     "name": "stdout",
     "output_type": "stream",
     "text": [
      "Linear Regression RMSE: 9.17 kg/ha\n"
     ]
    }
   ],
   "source": [
    "from sklearn.linear_model import LinearRegression\n",
    "from sklearn.metrics import mean_squared_error\n",
    "\n",
    "lr = LinearRegression()\n",
    "lr.fit(X_train, y_train)\n",
    "\n",
    "y_pred_lr = lr.predict(X_test)\n",
    "rmse_lr = mean_squared_error(y_test, y_pred_lr, squared=False)\n",
    "print(f\"Linear Regression RMSE: {rmse_lr:.2f} kg/ha\")\n"
   ]
  },
  {
   "cell_type": "code",
   "execution_count": 9,
   "id": "518c1d33",
   "metadata": {
    "execution": {
     "iopub.execute_input": "2025-04-11T14:41:41.569628Z",
     "iopub.status.busy": "2025-04-11T14:41:41.569201Z",
     "iopub.status.idle": "2025-04-11T14:41:42.326454Z",
     "shell.execute_reply": "2025-04-11T14:41:42.325129Z"
    },
    "papermill": {
     "duration": 0.765624,
     "end_time": "2025-04-11T14:41:42.328305",
     "exception": false,
     "start_time": "2025-04-11T14:41:41.562681",
     "status": "completed"
    },
    "tags": []
   },
   "outputs": [
    {
     "name": "stdout",
     "output_type": "stream",
     "text": [
      "Decision Tree RMSE: 3.49 kg/ha\n"
     ]
    }
   ],
   "source": [
    "from sklearn.tree import DecisionTreeRegressor\n",
    "\n",
    "dt = DecisionTreeRegressor(random_state=42)\n",
    "dt.fit(X_train, y_train)\n",
    "\n",
    "y_pred_dt = dt.predict(X_test)\n",
    "rmse_dt = mean_squared_error(y_test, y_pred_dt, squared=False)\n",
    "print(f\"Decision Tree RMSE: {rmse_dt:.2f} kg/ha\")\n"
   ]
  },
  {
   "cell_type": "code",
   "execution_count": 10,
   "id": "b33ab6d0",
   "metadata": {
    "execution": {
     "iopub.execute_input": "2025-04-11T14:41:42.340404Z",
     "iopub.status.busy": "2025-04-11T14:41:42.340037Z",
     "iopub.status.idle": "2025-04-11T14:42:33.112774Z",
     "shell.execute_reply": "2025-04-11T14:42:33.111623Z"
    },
    "papermill": {
     "duration": 50.785939,
     "end_time": "2025-04-11T14:42:33.119792",
     "exception": false,
     "start_time": "2025-04-11T14:41:42.333853",
     "status": "completed"
    },
    "tags": []
   },
   "outputs": [
    {
     "name": "stdout",
     "output_type": "stream",
     "text": [
      "Random Forest RMSE: 3.01 kg/ha\n"
     ]
    }
   ],
   "source": [
    "from sklearn.ensemble import RandomForestRegressor\n",
    "\n",
    "rf = RandomForestRegressor(n_estimators=100, random_state=42)\n",
    "rf.fit(X_train, y_train)\n",
    "\n",
    "y_pred_rf = rf.predict(X_test)\n",
    "rmse_rf = mean_squared_error(y_test, y_pred_rf, squared=False)\n",
    "print(f\"Random Forest RMSE: {rmse_rf:.2f} kg/ha\")\n"
   ]
  },
  {
   "cell_type": "code",
   "execution_count": 11,
   "id": "7d9f26b7",
   "metadata": {
    "execution": {
     "iopub.execute_input": "2025-04-11T14:42:33.131474Z",
     "iopub.status.busy": "2025-04-11T14:42:33.131083Z",
     "iopub.status.idle": "2025-04-11T14:42:34.041921Z",
     "shell.execute_reply": "2025-04-11T14:42:34.039771Z"
    },
    "papermill": {
     "duration": 0.918956,
     "end_time": "2025-04-11T14:42:34.043986",
     "exception": false,
     "start_time": "2025-04-11T14:42:33.125030",
     "status": "completed"
    },
    "tags": []
   },
   "outputs": [
    {
     "name": "stdout",
     "output_type": "stream",
     "text": [
      "XGBoost RMSE: 2.79 kg/ha\n"
     ]
    }
   ],
   "source": [
    "from xgboost import XGBRegressor\n",
    "\n",
    "xgb = XGBRegressor(n_estimators=100, random_state=42, verbosity=0)\n",
    "xgb.fit(X_train, y_train)\n",
    "\n",
    "y_pred_xgb = xgb.predict(X_test)\n",
    "rmse_xgb = mean_squared_error(y_test, y_pred_xgb, squared=False)\n",
    "print(f\"XGBoost RMSE: {rmse_xgb:.2f} kg/ha\")\n"
   ]
  },
  {
   "cell_type": "code",
   "execution_count": 12,
   "id": "d8937b25",
   "metadata": {
    "execution": {
     "iopub.execute_input": "2025-04-11T14:42:34.058766Z",
     "iopub.status.busy": "2025-04-11T14:42:34.058038Z",
     "iopub.status.idle": "2025-04-11T14:42:34.065469Z",
     "shell.execute_reply": "2025-04-11T14:42:34.064530Z"
    },
    "papermill": {
     "duration": 0.01579,
     "end_time": "2025-04-11T14:42:34.067205",
     "exception": false,
     "start_time": "2025-04-11T14:42:34.051415",
     "status": "completed"
    },
    "tags": []
   },
   "outputs": [
    {
     "name": "stdout",
     "output_type": "stream",
     "text": [
      "🔍 Model RMSE Comparison:\n",
      "XGBoost              : 2.79 kg/ha\n",
      "Random Forest        : 3.01 kg/ha\n",
      "Decision Tree        : 3.49 kg/ha\n",
      "Linear Regression    : 9.17 kg/ha\n"
     ]
    }
   ],
   "source": [
    "\n",
    "models = {\n",
    "    \"Linear Regression\": rmse_lr,\n",
    "    \"Decision Tree\": rmse_dt,\n",
    "    \"Random Forest\": rmse_rf,\n",
    "    \"XGBoost\": rmse_xgb\n",
    "    # \"SVR\": rmse_svr,       # <- Commented out\n",
    "    # \"KNN\": rmse_knn        # <- Commented out\n",
    "}\n",
    "\n",
    "# Sort by RMSE score\n",
    "sorted_models = dict(sorted(models.items(), key=lambda item: item[1]))\n",
    "\n",
    "print(\"🔍 Model RMSE Comparison:\")\n",
    "for model, score in sorted_models.items():\n",
    "    print(f\"{model:20s} : {score:.2f} kg/ha\")\n"
   ]
  },
  {
   "cell_type": "code",
   "execution_count": 13,
   "id": "7bb93417",
   "metadata": {
    "execution": {
     "iopub.execute_input": "2025-04-11T14:42:34.079316Z",
     "iopub.status.busy": "2025-04-11T14:42:34.078968Z",
     "iopub.status.idle": "2025-04-11T14:42:39.695357Z",
     "shell.execute_reply": "2025-04-11T14:42:39.693931Z"
    },
    "papermill": {
     "duration": 5.624404,
     "end_time": "2025-04-11T14:42:39.697268",
     "exception": false,
     "start_time": "2025-04-11T14:42:34.072864",
     "status": "completed"
    },
    "tags": []
   },
   "outputs": [
    {
     "name": "stdout",
     "output_type": "stream",
     "text": [
      "Requirement already satisfied: joblib in /usr/local/lib/python3.10/dist-packages (1.4.2)\r\n"
     ]
    }
   ],
   "source": [
    "!pip install joblib\n"
   ]
  },
  {
   "cell_type": "code",
   "execution_count": 14,
   "id": "128b7e01",
   "metadata": {
    "execution": {
     "iopub.execute_input": "2025-04-11T14:42:39.710751Z",
     "iopub.status.busy": "2025-04-11T14:42:39.710356Z",
     "iopub.status.idle": "2025-04-11T14:42:39.714979Z",
     "shell.execute_reply": "2025-04-11T14:42:39.714022Z"
    },
    "papermill": {
     "duration": 0.013811,
     "end_time": "2025-04-11T14:42:39.716735",
     "exception": false,
     "start_time": "2025-04-11T14:42:39.702924",
     "status": "completed"
    },
    "tags": []
   },
   "outputs": [],
   "source": [
    "import pandas as pd\n",
    "import joblib\n",
    "\n"
   ]
  },
  {
   "cell_type": "code",
   "execution_count": 15,
   "id": "9e992a2d",
   "metadata": {
    "execution": {
     "iopub.execute_input": "2025-04-11T14:42:39.729253Z",
     "iopub.status.busy": "2025-04-11T14:42:39.728913Z",
     "iopub.status.idle": "2025-04-11T14:42:39.900011Z",
     "shell.execute_reply": "2025-04-11T14:42:39.898493Z"
    },
    "papermill": {
     "duration": 0.179498,
     "end_time": "2025-04-11T14:42:39.901673",
     "exception": true,
     "start_time": "2025-04-11T14:42:39.722175",
     "status": "failed"
    },
    "tags": []
   },
   "outputs": [
    {
     "ename": "FileNotFoundError",
     "evalue": "[Errno 2] No such file or directory: 'xgb_yield_model.joblib'",
     "output_type": "error",
     "traceback": [
      "\u001b[0;31m---------------------------------------------------------------------------\u001b[0m",
      "\u001b[0;31mFileNotFoundError\u001b[0m                         Traceback (most recent call last)",
      "\u001b[0;32m<ipython-input-15-48d7f09ede3c>\u001b[0m in \u001b[0;36m<cell line: 1>\u001b[0;34m()\u001b[0m\n\u001b[0;32m----> 1\u001b[0;31m \u001b[0mxgb\u001b[0m \u001b[0;34m=\u001b[0m \u001b[0mjoblib\u001b[0m\u001b[0;34m.\u001b[0m\u001b[0mload\u001b[0m\u001b[0;34m(\u001b[0m\u001b[0;34m'xgb_yield_model.joblib'\u001b[0m\u001b[0;34m)\u001b[0m\u001b[0;34m\u001b[0m\u001b[0;34m\u001b[0m\u001b[0m\n\u001b[0m\u001b[1;32m      2\u001b[0m \u001b[0;34m\u001b[0m\u001b[0m\n",
      "\u001b[0;32m/usr/local/lib/python3.10/dist-packages/joblib/numpy_pickle.py\u001b[0m in \u001b[0;36mload\u001b[0;34m(filename, mmap_mode)\u001b[0m\n\u001b[1;32m    648\u001b[0m             \u001b[0mobj\u001b[0m \u001b[0;34m=\u001b[0m \u001b[0m_unpickle\u001b[0m\u001b[0;34m(\u001b[0m\u001b[0mfobj\u001b[0m\u001b[0;34m)\u001b[0m\u001b[0;34m\u001b[0m\u001b[0;34m\u001b[0m\u001b[0m\n\u001b[1;32m    649\u001b[0m     \u001b[0;32melse\u001b[0m\u001b[0;34m:\u001b[0m\u001b[0;34m\u001b[0m\u001b[0;34m\u001b[0m\u001b[0m\n\u001b[0;32m--> 650\u001b[0;31m         \u001b[0;32mwith\u001b[0m \u001b[0mopen\u001b[0m\u001b[0;34m(\u001b[0m\u001b[0mfilename\u001b[0m\u001b[0;34m,\u001b[0m \u001b[0;34m'rb'\u001b[0m\u001b[0;34m)\u001b[0m \u001b[0;32mas\u001b[0m \u001b[0mf\u001b[0m\u001b[0;34m:\u001b[0m\u001b[0;34m\u001b[0m\u001b[0;34m\u001b[0m\u001b[0m\n\u001b[0m\u001b[1;32m    651\u001b[0m             \u001b[0;32mwith\u001b[0m \u001b[0m_read_fileobject\u001b[0m\u001b[0;34m(\u001b[0m\u001b[0mf\u001b[0m\u001b[0;34m,\u001b[0m \u001b[0mfilename\u001b[0m\u001b[0;34m,\u001b[0m \u001b[0mmmap_mode\u001b[0m\u001b[0;34m)\u001b[0m \u001b[0;32mas\u001b[0m \u001b[0mfobj\u001b[0m\u001b[0;34m:\u001b[0m\u001b[0;34m\u001b[0m\u001b[0;34m\u001b[0m\u001b[0m\n\u001b[1;32m    652\u001b[0m                 \u001b[0;32mif\u001b[0m \u001b[0misinstance\u001b[0m\u001b[0;34m(\u001b[0m\u001b[0mfobj\u001b[0m\u001b[0;34m,\u001b[0m \u001b[0mstr\u001b[0m\u001b[0;34m)\u001b[0m\u001b[0;34m:\u001b[0m\u001b[0;34m\u001b[0m\u001b[0;34m\u001b[0m\u001b[0m\n",
      "\u001b[0;31mFileNotFoundError\u001b[0m: [Errno 2] No such file or directory: 'xgb_yield_model.joblib'"
     ]
    }
   ],
   "source": [
    "xgb = joblib.load('xgb_yield_model.joblib')\n",
    "\n"
   ]
  },
  {
   "cell_type": "code",
   "execution_count": null,
   "id": "c92297fd",
   "metadata": {
    "execution": {
     "iopub.execute_input": "2025-04-09T16:43:12.965367Z",
     "iopub.status.busy": "2025-04-09T16:43:12.964948Z",
     "iopub.status.idle": "2025-04-09T16:43:12.971570Z",
     "shell.execute_reply": "2025-04-09T16:43:12.970286Z",
     "shell.execute_reply.started": "2025-04-09T16:43:12.965337Z"
    },
    "papermill": {
     "duration": null,
     "end_time": null,
     "exception": null,
     "start_time": null,
     "status": "pending"
    },
    "tags": []
   },
   "outputs": [],
   "source": [
    "print(X_test.columns)\n",
    "\n"
   ]
  },
  {
   "cell_type": "code",
   "execution_count": null,
   "id": "2175b6eb",
   "metadata": {
    "execution": {
     "iopub.execute_input": "2025-04-09T16:43:29.429751Z",
     "iopub.status.busy": "2025-04-09T16:43:29.429303Z",
     "iopub.status.idle": "2025-04-09T16:43:29.439876Z",
     "shell.execute_reply": "2025-04-09T16:43:29.438267Z",
     "shell.execute_reply.started": "2025-04-09T16:43:29.429721Z"
    },
    "papermill": {
     "duration": null,
     "end_time": null,
     "exception": null,
     "start_time": null,
     "status": "pending"
    },
    "tags": []
   },
   "outputs": [],
   "source": [
    "\n",
    "sample = X_test.iloc[[0]]  # Double brackets keep it a DataFrame\n",
    "print(sample)\n"
   ]
  },
  {
   "cell_type": "code",
   "execution_count": null,
   "id": "6df3b327",
   "metadata": {
    "execution": {
     "iopub.execute_input": "2025-04-09T16:43:38.607871Z",
     "iopub.status.busy": "2025-04-09T16:43:38.607396Z",
     "iopub.status.idle": "2025-04-09T16:43:38.620190Z",
     "shell.execute_reply": "2025-04-09T16:43:38.617174Z",
     "shell.execute_reply.started": "2025-04-09T16:43:38.607834Z"
    },
    "papermill": {
     "duration": null,
     "end_time": null,
     "exception": null,
     "start_time": null,
     "status": "pending"
    },
    "tags": []
   },
   "outputs": [],
   "source": [
    "\n",
    "predicted_yield = xgb.predict(sample)[0]\n",
    "print(f\"Predicted Yield: {predicted_yield:.2f} kg/hectare\")\n"
   ]
  },
  {
   "cell_type": "code",
   "execution_count": null,
   "id": "3f4d368b",
   "metadata": {
    "execution": {
     "iopub.execute_input": "2025-04-09T16:46:21.879103Z",
     "iopub.status.busy": "2025-04-09T16:46:21.878711Z",
     "iopub.status.idle": "2025-04-09T16:46:21.903519Z",
     "shell.execute_reply": "2025-04-09T16:46:21.902142Z",
     "shell.execute_reply.started": "2025-04-09T16:46:21.879075Z"
    },
    "papermill": {
     "duration": null,
     "end_time": null,
     "exception": null,
     "start_time": null,
     "status": "pending"
    },
    "tags": []
   },
   "outputs": [],
   "source": [
    "for i in range(5):\n",
    "    sample = X_test.iloc[[i]]\n",
    "    pred = xgb.predict(sample)[0]\n",
    "    actual = y_test.iloc[i]\n",
    "    print(f\"Predicted: {pred:.2f} | Actual: {actual:.2f}\")\n"
   ]
  },
  {
   "cell_type": "code",
   "execution_count": null,
   "id": "65ae7ec6",
   "metadata": {
    "execution": {
     "iopub.execute_input": "2025-04-09T16:46:24.623625Z",
     "iopub.status.busy": "2025-04-09T16:46:24.623258Z",
     "iopub.status.idle": "2025-04-09T16:46:25.110184Z",
     "shell.execute_reply": "2025-04-09T16:46:25.108792Z",
     "shell.execute_reply.started": "2025-04-09T16:46:24.623601Z"
    },
    "papermill": {
     "duration": null,
     "end_time": null,
     "exception": null,
     "start_time": null,
     "status": "pending"
    },
    "tags": []
   },
   "outputs": [],
   "source": [
    "import matplotlib.pyplot as plt\n",
    "\n",
    "preds = xgb.predict(X_test)\n",
    "plt.figure(figsize=(8,5))\n",
    "plt.scatter(y_test, preds, alpha=0.6)\n",
    "plt.xlabel(\"Actual Yield (kg/ha)\")\n",
    "plt.ylabel(\"Predicted Yield (kg/ha)\")\n",
    "plt.title(\"Predicted vs Actual Yield\")\n",
    "plt.plot([0, max(y_test)], [0, max(y_test)], color='red')  # ideal line\n",
    "plt.grid(True)\n",
    "plt.show()\n"
   ]
  }
 ],
 "metadata": {
  "kaggle": {
   "accelerator": "none",
   "dataSources": [
    {
     "datasetId": 412860,
     "sourceId": 790184,
     "sourceType": "datasetVersion"
    }
   ],
   "dockerImageVersionId": 30918,
   "isGpuEnabled": false,
   "isInternetEnabled": false,
   "language": "python",
   "sourceType": "notebook"
  },
  "kernelspec": {
   "display_name": "Python 3",
   "language": "python",
   "name": "python3"
  },
  "language_info": {
   "codemirror_mode": {
    "name": "ipython",
    "version": 3
   },
   "file_extension": ".py",
   "mimetype": "text/x-python",
   "name": "python",
   "nbconvert_exporter": "python",
   "pygments_lexer": "ipython3",
   "version": "3.10.12"
  },
  "papermill": {
   "default_parameters": {},
   "duration": 67.005468,
   "end_time": "2025-04-11T14:42:40.828665",
   "environment_variables": {},
   "exception": true,
   "input_path": "__notebook__.ipynb",
   "output_path": "__notebook__.ipynb",
   "parameters": {},
   "start_time": "2025-04-11T14:41:33.823197",
   "version": "2.6.0"
  }
 },
 "nbformat": 4,
 "nbformat_minor": 5
}
